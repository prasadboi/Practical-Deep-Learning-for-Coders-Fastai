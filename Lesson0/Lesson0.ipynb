{
  "nbformat": 4,
  "nbformat_minor": 0,
  "metadata": {
    "colab": {
      "provenance": [],
      "gpuType": "T4",
      "authorship_tag": "ABX9TyMtLNaWjDtAQgqUk7zr/6Uc",
      "include_colab_link": true
    },
    "kernelspec": {
      "name": "python3",
      "display_name": "Python 3"
    },
    "language_info": {
      "name": "python"
    },
    "accelerator": "GPU"
  },
  "cells": [
    {
      "cell_type": "markdown",
      "metadata": {
        "id": "view-in-github",
        "colab_type": "text"
      },
      "source": [
        "<a href=\"https://colab.research.google.com/github/prasadboi/Practical-Deep-Learning-for-Coders-Fastai/blob/main/Lesson0/Lesson0.ipynb\" target=\"_parent\"><img src=\"https://colab.research.google.com/assets/colab-badge.svg\" alt=\"Open In Colab\"/></a>"
      ]
    },
    {
      "cell_type": "markdown",
      "source": [
        "# LESSON 0"
      ],
      "metadata": {
        "id": "ttaNMkmu_DIA"
      }
    },
    {
      "cell_type": "markdown",
      "source": [
        "## Goals\n",
        "- Complete the FULL Course !!!\n",
        "- 60% implementation - 40% learning is better than 100% learning and no implementation until the very end\n",
        "- Share your work!\n",
        "- Make 1 excellent project rather than have multiple incomplete interesting projects on your Github"
      ],
      "metadata": {
        "id": "FH66_CLd_HpF"
      }
    },
    {
      "cell_type": "markdown",
      "source": [
        "## How to tackle a lesson ?\n",
        "- Watch the video lecture\n",
        "- Run the Notebook and EXPERIMENT\n",
        "- Implement the code yourself\n",
        "- Try the same thing with a different dataset"
      ],
      "metadata": {
        "id": "7CR1nI1R_qYW"
      }
    },
    {
      "cell_type": "markdown",
      "source": [
        "---\n",
        "\n"
      ],
      "metadata": {
        "id": "H_Xmrqu0Cor-"
      }
    },
    {
      "cell_type": "markdown",
      "source": [
        "- **NOTE:  Run the following code for importing all libraries needed for the lessons**"
      ],
      "metadata": {
        "id": "TOOMKe-fAEL6"
      }
    },
    {
      "cell_type": "code",
      "source": [
        "!pip install -Uqq fastbook\n",
        "import fastbook\n",
        "fastbook.setup_book()\n",
        "from fastbook import *"
      ],
      "metadata": {
        "id": "kMryL-k_AWDp"
      },
      "execution_count": 5,
      "outputs": []
    },
    {
      "cell_type": "markdown",
      "source": [
        "- **NOTE: You do not need to have a lot of mathematical prerequisites to succeed in Deep Learning.**\n",
        "- **Fast AI library is made to be extremely readable. You should also write code to understand it completely**"
      ],
      "metadata": {
        "id": "TLodZUvDCFY0"
      }
    },
    {
      "cell_type": "markdown",
      "source": [
        "- You can use fastpages to create a blog as well"
      ],
      "metadata": {
        "id": "LEfnjBzVIB2k"
      }
    },
    {
      "cell_type": "markdown",
      "source": [
        "## Successfull ML projects\n",
        "- First a very simple baseline model is created and then slowly iteration by iteration you improve the performance of your model"
      ],
      "metadata": {
        "id": "tmDukdvPJTtp"
      }
    },
    {
      "cell_type": "markdown",
      "source": [
        "## Kaggle Competitions\n",
        "- Makes for a very good project\n",
        "- Gettig a model up onto the Kaggle onto the contest leaderboard is really going to test your end to end understanding"
      ],
      "metadata": {
        "id": "HxheIrn2JrZl"
      }
    },
    {
      "cell_type": "markdown",
      "source": [
        "### How to succeed in a Kaggle Competition\n",
        "- Join a competition early\n",
        "- read forums daily\n",
        "- make small improvements every day\n",
        "- find validation split that tracks LB\n",
        "- posts by top kagglers that will take you 80% of the way\n",
        "- papers/bog posts/creativity will take you the remaining 20% of the way\n",
        "- Ensemble results"
      ],
      "metadata": {
        "id": "-QboG07NKPKg"
      }
    },
    {
      "cell_type": "markdown",
      "source": [
        "## Getting a job"
      ],
      "metadata": {
        "id": "EDfADLjSK79i"
      }
    },
    {
      "cell_type": "markdown",
      "source": [
        "- most people are not going to able to rely on their PhD to bag their job.\n",
        "- You are going to rely mostly on your portfolio. So you need to have a stellar portfolio - your blogs, your tweets, active community experience, your github projects. These are the main things that are going to land you a job.\n",
        "- They probably wont get you a job in a big company because of HR, however startups (other people with similar backgrounds) are going to appreciate the work you do, or companies that currently are not very good on the AI part of things. So build your portfolio early on and get successful already."
      ],
      "metadata": {
        "id": "gzZOQKLYK-aO"
      }
    },
    {
      "cell_type": "code",
      "source": [],
      "metadata": {
        "id": "luElZXWuK9hH"
      },
      "execution_count": null,
      "outputs": []
    }
  ]
}