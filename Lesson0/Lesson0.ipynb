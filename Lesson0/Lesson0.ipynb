{
  "nbformat": 4,
  "nbformat_minor": 0,
  "metadata": {
    "colab": {
      "provenance": [],
      "authorship_tag": "ABX9TyNf0YQTUmOq5OE3jPDSQNX+",
      "include_colab_link": true
    },
    "kernelspec": {
      "name": "python3",
      "display_name": "Python 3"
    },
    "language_info": {
      "name": "python"
    }
  },
  "cells": [
    {
      "cell_type": "markdown",
      "metadata": {
        "id": "view-in-github",
        "colab_type": "text"
      },
      "source": [
        "<a href=\"https://colab.research.google.com/github/prasadboi/Practical-Deep-Learning-for-Coders-Fastai/blob/main/Lesson0/Lesson0.ipynb\" target=\"_parent\"><img src=\"https://colab.research.google.com/assets/colab-badge.svg\" alt=\"Open In Colab\"/></a>"
      ]
    },
    {
      "cell_type": "markdown",
      "source": [
        "# LESSON 0"
      ],
      "metadata": {
        "id": "ttaNMkmu_DIA"
      }
    },
    {
      "cell_type": "markdown",
      "source": [
        "## Goals\n",
        "- Complete the FULL Course !!!\n",
        "- 60% implementation - 40% learning is better than 100% learning and no implementation until the very end\n",
        "- Share your work!\n",
        "- Make 1 excellent project rather than have multiple incomplete interesting projects on your Github"
      ],
      "metadata": {
        "id": "FH66_CLd_HpF"
      }
    },
    {
      "cell_type": "markdown",
      "source": [
        "## How to tackle a lesson ?\n",
        "- Watch the video lecture\n",
        "- Run the Notebook\n",
        "- Implement the code yourself\n",
        "- Try the same thing with a different dataset"
      ],
      "metadata": {
        "id": "7CR1nI1R_qYW"
      }
    },
    {
      "cell_type": "code",
      "source": [],
      "metadata": {
        "id": "UgvvZTEX_p5C"
      },
      "execution_count": null,
      "outputs": []
    }
  ]
}